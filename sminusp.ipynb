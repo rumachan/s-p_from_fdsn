{
 "cells": [
  {
   "cell_type": "markdown",
   "metadata": {},
   "source": [
    "# S-P Visualization from SC3 Phase Picks\n",
    "\n",
    "**Given the location scatter for earthquakes near White Island, the volcano monitoring meeting wondered about using S-P interval to see if any hypocentral 'migration' can be seen. Previous efforts to look at chnages in S-P at volcanoes, such as Raoul Island in 2006' has relied on manually picking P- and S-phases. In my view, manual picking is no longer the best use of my time. Consequently, this notebook uses picks routinely made using earthquake location with SC3. PIcks are extracted from GeoNet's FDSN client using the get_events function**"
   ]
  },
  {
   "cell_type": "code",
   "execution_count": null,
   "metadata": {},
   "outputs": [],
   "source": [
    "from IPython.core.display import display, HTML\n",
    "display(HTML(\"<style>.container { width:100% !important; }</style>\"))"
   ]
  },
  {
   "cell_type": "code",
   "execution_count": null,
   "metadata": {},
   "outputs": [],
   "source": [
    "from obspy import UTCDateTime\n",
    "from obspy.clients.fdsn import Client as FDSN_Client\n",
    "from obspy import read_inventory\n",
    "import pandas as pd\n",
    "import matplotlib.pyplot as plt\n",
    "\n",
    "%matplotlib inline"
   ]
  },
  {
   "cell_type": "code",
   "execution_count": null,
   "metadata": {},
   "outputs": [],
   "source": [
    "client = FDSN_Client(\"GEONET\")"
   ]
  },
  {
   "cell_type": "markdown",
   "metadata": {},
   "source": [
    "## Query FDSN web server to get event list\n",
    "\n",
    "**This uses a simple distance-based search, other options are possible**"
   ]
  },
  {
   "cell_type": "code",
   "execution_count": null,
   "metadata": {},
   "outputs": [],
   "source": [
    "starttime = UTCDateTime('2019-05-22 00:00:00.000')\n",
    "endtime = UTCDateTime.now()\n",
    "latitude = -37.521\n",
    "longitude = 177.184\n",
    "maxradius = 0.20\n",
    "maxdepth = 30\n",
    "\n",
    "sites = ['WSRZ', 'WIZ']"
   ]
  },
  {
   "cell_type": "code",
   "execution_count": null,
   "metadata": {
    "scrolled": true
   },
   "outputs": [],
   "source": [
    "cat = client.get_events(starttime=starttime, endtime=endtime, latitude=latitude, longitude=longitude, maxradius=maxradius, maxdepth=maxdepth)"
   ]
  },
  {
   "cell_type": "code",
   "execution_count": null,
   "metadata": {},
   "outputs": [],
   "source": [
    "dfp = pd.DataFrame()\n",
    "dfs = pd.DataFrame()\n",
    "df = pd.DataFrame()"
   ]
  },
  {
   "cell_type": "markdown",
   "metadata": {},
   "source": [
    "### Extract the required data. Loop is messy, but based on data tutorial. A better method?\n",
    "\n",
    "Write to Pandas dataframes, one for P- and one for S-phases. Makes subsequent data management easier."
   ]
  },
  {
   "cell_type": "code",
   "execution_count": null,
   "metadata": {
    "scrolled": true
   },
   "outputs": [],
   "source": [
    "for ev in cat:\n",
    "    ot = ev.short_str().split('|')[0] # better way to do this?\n",
    "    origin = ev.origins[0]\n",
    "    for p in range(len(ev.picks)):\n",
    "        for a in range(len(origin.arrivals)):\n",
    "            if ev.picks[p].resource_id == origin.arrivals[a].pick_id:\n",
    "                for site in sites:\n",
    "                    if ev.picks[p].waveform_id['station_code'] == site:\n",
    "                        vals = {'origin_time':ot, 'site':ev.picks[p].waveform_id['station_code'], 'phase':origin.arrivals[a].phase, 'pick':ev.picks[p].time}\n",
    "                        data = pd.DataFrame([vals], columns=vals.keys())\n",
    "                        if (origin.arrivals[a].phase == 'P'):\n",
    "                            dfp = dfp.append(data, ignore_index=False)\n",
    "                        else:\n",
    "                            dfs = dfs.append(data, ignore_index=False)"
   ]
  },
  {
   "cell_type": "markdown",
   "metadata": {},
   "source": [
    "### Merge P and S dataframes and prepare for visualization"
   ]
  },
  {
   "cell_type": "code",
   "execution_count": null,
   "metadata": {},
   "outputs": [],
   "source": [
    "df = pd.merge(dfp, dfs, how='outer', on=['origin_time', 'site'])\n",
    "df['origin_time'] = df['origin_time'].apply(pd.to_datetime)\n",
    "df.rename(columns={'phase_x':'P-phase', 'phase_y':'S-phase'}, inplace=True)\n",
    "# df.set_index(keys='origin_time', inplace=True)\n",
    "df['sminusp'] = df['pick_y'] - df['pick_x']\n",
    "df = df.drop(columns=['pick_x', 'pick_y'])\n",
    "df['sminusp'] = df['sminusp'].astype('float', )"
   ]
  },
  {
   "cell_type": "code",
   "execution_count": null,
   "metadata": {
    "scrolled": true
   },
   "outputs": [],
   "source": [
    "df.head()"
   ]
  },
  {
   "cell_type": "markdown",
   "metadata": {},
   "source": [
    "## Data summary"
   ]
  },
  {
   "cell_type": "markdown",
   "metadata": {},
   "source": [
    "### How much S-P data"
   ]
  },
  {
   "cell_type": "code",
   "execution_count": null,
   "metadata": {},
   "outputs": [],
   "source": [
    "num_pphases_wiz = len(df[(df['site'] == 'WIZ') & (df['P-phase'] == 'P')])\n",
    "num_pphases_wsrz = len(df[(df['site'] == 'WSRZ') & (df['P-phase'] == 'P')])\n",
    "pd.notna(df['sminusp'])\n",
    "num_sp_wiz = len(df[(df['site'] == 'WIZ') & pd.notna(df['sminusp'])])\n",
    "num_sp_wsrz = len(df[(df['site'] == 'WSRZ') & pd.notna(df['sminusp'])])\n",
    "\n",
    "print ('P-phases WIZ =', num_pphases_wiz)\n",
    "print ('P-phases WSRZ =', num_pphases_wsrz)\n",
    "print ('S-P WIZ =', num_sp_wiz)\n",
    "print ('S-P WSRZ =', num_sp_wsrz)"
   ]
  },
  {
   "cell_type": "markdown",
   "metadata": {},
   "source": [
    "## Visualization"
   ]
  },
  {
   "cell_type": "markdown",
   "metadata": {},
   "source": [
    "### S-P vs time"
   ]
  },
  {
   "cell_type": "code",
   "execution_count": null,
   "metadata": {
    "scrolled": true
   },
   "outputs": [],
   "source": [
    "wiz = df[df['site']=='WIZ']\n",
    "wsrz = df[df['site']=='WSRZ']\n",
    "scat = wiz.plot(x='origin_time', y='sminusp', marker='o', linestyle='None', title='S-P Interval', figsize=(10,5), label='WIZ')\n",
    "wsrz.plot(ax=scat, x='origin_time', y='sminusp', marker='o', linestyle='None', color='red', label='WSRZ')\n",
    "scat.legend(loc='best')\n",
    "scat.set_ylabel('S-P (s)')\n",
    "scat.set_ylim(top=4)\n",
    "\n",
    "fig = scat.get_figure()\n",
    "fig.savefig('white_island_s-p_scatter.png', dpi=100)"
   ]
  },
  {
   "cell_type": "markdown",
   "metadata": {},
   "source": [
    "### Boxplot"
   ]
  },
  {
   "cell_type": "code",
   "execution_count": null,
   "metadata": {},
   "outputs": [],
   "source": [
    "bp = df.boxplot(column='sminusp', by='site', whis=[5,95])\n",
    "bp.set_title('S-P by site (5-95 whiskers), with outliers')\n",
    "bp.set_ylabel('S-P (s)')\n",
    "plt.suptitle('')\n",
    "\n",
    "fig = bp.get_figure()\n",
    "fig.savefig('white_island_s-p_boxplot.png', dpi=100)"
   ]
  }
 ],
 "metadata": {
  "kernelspec": {
   "display_name": "Python 3",
   "language": "python",
   "name": "python3"
  },
  "language_info": {
   "codemirror_mode": {
    "name": "ipython",
    "version": 3
   },
   "file_extension": ".py",
   "mimetype": "text/x-python",
   "name": "python",
   "nbconvert_exporter": "python",
   "pygments_lexer": "ipython3",
   "version": "3.7.3"
  }
 },
 "nbformat": 4,
 "nbformat_minor": 2
}
